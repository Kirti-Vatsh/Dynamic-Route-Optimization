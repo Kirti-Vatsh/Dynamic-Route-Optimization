{
 "cells": [
  {
   "cell_type": "code",
   "execution_count": 5,
   "metadata": {
    "colab": {
     "base_uri": "https://localhost:8080/"
    },
    "id": "V0PHnpJbNQpX",
    "outputId": "3c27b44e-05fc-487c-97af-cccb6318de01"
   },
   "outputs": [
    {
     "name": "stdout",
     "output_type": "stream",
     "text": [
      "Requirement already satisfied: gurobipy in /Users/saiarvindatluri/anaconda3/lib/python3.10/site-packages (11.0.0)\n"
     ]
    }
   ],
   "source": [
    "# Step 1: Install Gurobi (Assuming Gurobi isn't pre-installed in your environment)\n",
    "!pip install gurobipy\n",
    "\n",
    "# Adjust the file path below\n",
    "file_path = '/Users/saiarvindatluri/Downloads/Route755.xlsx'  # Update this path\n",
    "\n",
    "# Step 3: Prepare the data\n",
    "import pandas as pd\n",
    "import numpy as np\n",
    "from gurobipy import Model, GRB, quicksum\n",
    "\n",
    "# Load the Excel file using the correct sheet names\n",
    "store_details = pd.read_excel(file_path, sheet_name='StoreDetails')\n",
    "time_matrix_df = pd.read_excel(file_path, sheet_name='Time')\n",
    "\n",
    "# Convert the DataFrame into a dictionary where keys are (origin, destination) pairs and values are travel times\n",
    "time_matrix = {\n",
    "    (int(time_matrix_df.iloc[i]['ID No']), int(time_matrix_df.columns[j])): time_matrix_df.iloc[i, j]\n",
    "    for i in range(len(time_matrix_df))\n",
    "    for j in range(1, len(time_matrix_df.columns))\n",
    "}\n",
    "\n",
    "# Process 'store_details' to identify delivery days for each store\n",
    "# Initialize a dictionary to keep track of delivery days for Costco and other stores\n",
    "delivery_days = {}\n",
    "\n",
    "# Define working days, excluding Wednesday and Sunday\n",
    "working_days = ['Monday', 'Tuesday', 'Thursday', 'Friday', 'Saturday']\n",
    "\n",
    "# Create a mapping for each store and whether it requires delivery on each working day\n",
    "# This considers Costco's requirement for daily delivery on working days and the minimum 3 times a week for others\n",
    "store_working_days = {}\n",
    "for store_id, days in delivery_days.items():\n",
    "    for day in working_days:\n",
    "        # For Costco (identified by name or another criteria in your data), ensure delivery on all working days\n",
    "        # For other stores, ensure a minimum of 3 deliveries a week based on your logic to identify these stores\n",
    "        if 'Costco' in store_details.loc[store_details['ID No'] == store_id, 'Store'].values[0]:\n",
    "            store_working_days[(store_id, day)] = True  # Costco stores require delivery on all working days\n",
    "        else:\n",
    "            # For other stores, this logic might need to be adjusted based on your specific requirements\n",
    "            store_working_days[(store_id, day)] = day in days\n",
    "\n",
    "# Prepare a matrix for loading times (assuming 15 minutes for each store)\n",
    "loading_time = 15  # Loading time in minutes\n",
    "working_hours_per_day = 9 * 60\n",
    "\n",
    "# Extract store IDs, including the depot (assumed to be ID 0)\n",
    "stores = sorted(store_details['ID No'].unique().tolist())\n",
    "\n",
    "# Identify Costco stores from the 'Store' column\n",
    "costco_stores = store_details[store_details['Store'].str.contains('Costco')]['ID No'].unique().tolist()"
   ]
  },
  {
   "cell_type": "code",
   "execution_count": 6,
   "metadata": {
    "colab": {
     "base_uri": "https://localhost:8080/"
    },
    "id": "jfNsaMVe3-B7",
    "outputId": "d9d7b88c-8365-42bc-ecf1-480e9d79682a"
   },
   "outputs": [
    {
     "name": "stdout",
     "output_type": "stream",
     "text": [
      "Set parameter Username\n",
      "Academic license - for non-commercial use only - expires 2024-12-12\n"
     ]
    }
   ],
   "source": [
    "# Initialize the model\n",
    "model = Model(\"VehicleRouteOptimization\")\n",
    "\n",
    "# Decision Variables\n",
    "# Paths taken between stores on given days\n",
    "visit_var = model.addVars(\n",
    "    working_days, [(i, j) for i, j in time_matrix.keys() if i != j],\n",
    "    vtype=GRB.BINARY, name=\"visit\"\n",
    ")\n",
    "\n",
    "# Deliveries made to stores on given days\n",
    "delivery_var = model.addVars(\n",
    "    working_days, store_details['ID No'].unique(),\n",
    "    vtype=GRB.BINARY, name=\"delivery\"\n",
    ")\n",
    "\n",
    "### The Objective: Minimize Travel Time\n",
    "model.setObjective(\n",
    "    quicksum(visit_var[day, i, j] * time_matrix[(i, j)]\n",
    "             for day in working_days for i, j in time_matrix.keys() if i != j),\n",
    "    GRB.MINIMIZE\n",
    ")\n",
    "\n",
    "\n",
    "# Assuming depot is store 0\n",
    "for day in working_days:\n",
    "    # Ensure the depot is left first\n",
    "    model.addConstr(quicksum(visit_var[day, 0, j] for j in stores if j != 0) == 1, f\"StartFromDepot_{day}\")\n",
    "    # Ensure the depot is entered last\n",
    "    model.addConstr(quicksum(visit_var[day, i, 0] for i in stores if i != 0) == 1, f\"ReturnToDepotLast_{day}\")\n",
    "\n",
    "# Single exit and entry for each store, ensuring path continuity\n",
    "for day in working_days:\n",
    "    for store in stores[1:]:  # Excluding the depot\n",
    "        model.addConstr(quicksum(visit_var[day, i, store] for i in stores if i != store) >= delivery_var[day, store], f\"MinIncoming_{day}_{store}\")\n",
    "        model.addConstr(quicksum(visit_var[day, store, j] for j in stores if j != store) >= delivery_var[day, store], f\"MinOutgoing_{day}_{store}\")\n",
    "\n",
    "# Delivery requirements for Costco and other stores\n",
    "for store in stores[1:]:\n",
    "    if store in costco_stores:\n",
    "        for day in working_days:\n",
    "            model.addConstr(delivery_var[day, store] == 1, f\"CostcoDelivery_{day}_{store}\")\n",
    "    else:\n",
    "        model.addConstr(quicksum(delivery_var[day, store] for day in working_days) >= 3, f\"MinDeliveries_{store}\")\n",
    "\n",
    "# Prevent delivery after two consecutive days with a more flexible approach\n",
    "for store in stores:\n",
    "    for i in range(len(working_days) - 2):\n",
    "        day1, day2, day3 = working_days[i], working_days[i + 1], working_days[i + 2]\n",
    "        model.addConstr((delivery_var[day1, store] + delivery_var[day2, store] + (1 - delivery_var[day3, store])) >= 1,\n",
    "                        f\"FlexibleNoConsecutiveDelivery_{store}_{day1}_{day2}_{day3}\")\n",
    "\n",
    "# Constraint to limit the number of deliveries per day to less than 19\n",
    "for day in working_days:\n",
    "    model.addConstr(\n",
    "        quicksum(delivery_var[day, store] for store in stores) <= 18,\n",
    "        f\"MaxDeliveriesPerDay_{day}\"\n",
    "    )\n",
    "    \n",
    "# Working hours constraint, adjusted for minimized total travel time\n",
    "for day in working_days:\n",
    "    model.addConstr(\n",
    "        quicksum((time_matrix[(i, j)] + loading_time) * visit_var[day, i, j] for i in stores for j in stores if i != j) <= working_hours_per_day,\n",
    "        f\"WorkingHours_{day}\"\n",
    "    )\n"
   ]
  },
  {
   "cell_type": "code",
   "execution_count": 7,
   "metadata": {
    "colab": {
     "base_uri": "https://localhost:8080/",
     "height": 341
    },
    "id": "FoF1oGaE4BS4",
    "outputId": "8a9ead53-ddc0-4145-a8ef-2e06b6c9a8fe"
   },
   "outputs": [
    {
     "name": "stdout",
     "output_type": "stream",
     "text": [
      "Gurobi Optimizer version 11.0.0 build v11.0.0rc2 (mac64[arm] - Darwin 23.2.0 23C71)\n",
      "\n",
      "CPU model: Apple M2\n",
      "Thread count: 8 physical cores, 8 logical processors, using up to 8 threads\n",
      "\n",
      "Optimize a model with 423 rows, 4205 columns and 13006 nonzeros\n",
      "Model fingerprint: 0xdea151b5\n",
      "Variable types: 0 continuous, 4205 integer (4205 binary)\n",
      "Coefficient statistics:\n",
      "  Matrix range     [1e+00, 8e+01]\n",
      "  Objective range  [1e+00, 7e+01]\n",
      "  Bounds range     [1e+00, 1e+00]\n",
      "  RHS range        [1e+00, 5e+02]\n",
      "Presolve removed 19 rows and 15 columns\n",
      "Presolve time: 0.02s\n",
      "Presolved: 404 rows, 4190 columns, 12924 nonzeros\n",
      "Variable types: 0 continuous, 4190 integer (4190 binary)\n",
      "\n",
      "Root relaxation: objective 6.932000e+02, 916 iterations, 0.01 seconds (0.01 work units)\n",
      "\n",
      "    Nodes    |    Current Node    |     Objective Bounds      |     Work\n",
      " Expl Unexpl |  Obj  Depth IntInf | Incumbent    BestBd   Gap | It/Node Time\n",
      "\n",
      "     0     0  693.20000    0    8          -  693.20000      -     -    0s\n",
      "H    0     0                     708.6500000  693.20000  2.18%     -    0s\n",
      "H    0     0                     697.5666667  693.20000  0.63%     -    0s\n",
      "     0     0  693.20000    0    8  697.56667  693.20000  0.63%     -    0s\n",
      "*    0     0               0     693.2000000  693.20000  0.00%     -    0s\n",
      "\n",
      "Explored 1 nodes (1832 simplex iterations) in 0.09 seconds (0.09 work units)\n",
      "Thread count was 8 (of 8 available processors)\n",
      "\n",
      "Solution count 3: 693.2 697.567 708.65 \n",
      "\n",
      "Optimal solution found (tolerance 1.00e-04)\n",
      "Best objective 6.932000000000e+02, best bound 6.932000000000e+02, gap 0.0000%\n",
      "Day: Monday, Route: store 0 to store 8; store 8 to store 1; store 1 to store 2; store 2 to store 21; store 21 to store 3; store 3 to store 12; store 12 to store 4; store 4 to store 28; store 28 to store 5; store 5 to store 22; store 22 to store 9; store 9 to store 11; store 11 to store 13; store 13 to store 16; store 16 to store 19; store 19 to store 18; store 18 to store 23; store 23 to store 25; store 25 to store 0\n",
      "Day: Tuesday, Route: store 0 to store 1; store 1 to store 2; store 2 to store 7; store 7 to store 4; store 4 to store 28; store 28 to store 5; store 5 to store 22; store 22 to store 6; store 6 to store 15; store 15 to store 17; store 17 to store 10; store 10 to store 24; store 24 to store 14; store 14 to store 20; store 20 to store 25; store 25 to store 26; store 26 to store 27; store 27 to store 0\n",
      "Day: Thursday, Route: store 0 to store 8; store 8 to store 1; store 1 to store 2; store 2 to store 21; store 21 to store 3; store 3 to store 12; store 12 to store 5; store 5 to store 22; store 22 to store 6; store 6 to store 15; store 15 to store 9; store 9 to store 11; store 11 to store 13; store 13 to store 20; store 20 to store 16; store 16 to store 19; store 19 to store 18; store 18 to store 23; store 23 to store 0\n",
      "Day: Friday, Route: store 0 to store 1; store 1 to store 2; store 2 to store 21; store 21 to store 4; store 4 to store 28; store 28 to store 7; store 7 to store 17; store 17 to store 10; store 10 to store 24; store 24 to store 14; store 14 to store 16; store 16 to store 19; store 19 to store 18; store 18 to store 23; store 23 to store 25; store 25 to store 26; store 26 to store 27; store 27 to store 0\n",
      "Day: Saturday, Route: store 0 to store 8; store 8 to store 1; store 1 to store 2; store 2 to store 7; store 7 to store 3; store 3 to store 12; store 12 to store 6; store 6 to store 15; store 15 to store 17; store 17 to store 9; store 9 to store 10; store 10 to store 24; store 24 to store 11; store 11 to store 13; store 13 to store 14; store 14 to store 20; store 20 to store 26; store 26 to store 27; store 27 to store 0\n"
     ]
    }
   ],
   "source": [
    "# Solve the optimization model\n",
    "model.optimize()\n",
    "\n",
    "# Placeholder for daily store visits based on Gurobi model output\n",
    "daily_visits = {day: [] for day in working_days}\n",
    "\n",
    "# Extracting visits from the model's solution\n",
    "for day in working_days:\n",
    "    for i, j in [(i, j) for i in stores for j in stores if i != j]:\n",
    "        if visit_var[day, i, j].X > 0.5:  # Threshold to consider if the route is selected\n",
    "            if i not in daily_visits[day]:\n",
    "                daily_visits[day].append(i)\n",
    "            if j not in daily_visits[day]:\n",
    "                daily_visits[day].append(j)\n",
    "\n",
    "# Function to sequence the store visits\n",
    "def format_sequence(sequence):\n",
    "    \"\"\"\n",
    "    Format the sequence of visits to display transitions between stores and back to the depot.\n",
    "    \"\"\"\n",
    "    # Ensure the sequence ends with the depot for a complete loop\n",
    "    if sequence[-1] != 0:\n",
    "        sequence.append(0)\n",
    "\n",
    "    # Build the formatted string\n",
    "    transitions = [f\"store {sequence[i]} to store {sequence[i+1]}\" for i in range(len(sequence) - 1)]\n",
    "    formatted_sequence = \"; \".join(transitions)\n",
    "    return formatted_sequence\n",
    "\n",
    "# Apply formatting to the sequenced visits\n",
    "for day, stores in daily_visits.items():\n",
    "    formatted_sequence = format_sequence(stores)\n",
    "    print(f\"Day: {day}, Route: {formatted_sequence}\")"
   ]
  },
  {
   "cell_type": "code",
   "execution_count": null,
   "metadata": {},
   "outputs": [],
   "source": []
  }
 ],
 "metadata": {
  "colab": {
   "provenance": []
  },
  "kernelspec": {
   "display_name": "Python 3 (ipykernel)",
   "language": "python",
   "name": "python3"
  },
  "language_info": {
   "codemirror_mode": {
    "name": "ipython",
    "version": 3
   },
   "file_extension": ".py",
   "mimetype": "text/x-python",
   "name": "python",
   "nbconvert_exporter": "python",
   "pygments_lexer": "ipython3",
   "version": "3.10.9"
  }
 },
 "nbformat": 4,
 "nbformat_minor": 4
}
